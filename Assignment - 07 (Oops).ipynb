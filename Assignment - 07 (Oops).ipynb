{
 "cells": [
  {
   "attachments": {},
   "cell_type": "markdown",
   "metadata": {},
   "source": [
    " ##                     **Assignment - 07 (Oops)**"
   ]
  },
  {
   "attachments": {},
   "cell_type": "markdown",
   "metadata": {},
   "source": [
    "Q1. What is Abstraction in OOps? Explain with an example."
   ]
  },
  {
   "attachments": {},
   "cell_type": "markdown",
   "metadata": {},
   "source": [
    "* Abstraction is one of the pillars and fundamental concept in object-oriented programming that focuses on representing essential features and behavior while hiding unnecessary details. It allows you to create classes or interfaces that define the structure and functionality without specifying all the implementation details. Abstraction provides a higher-level view of the system, allowing users to work with the abstraction without needing to understand the underlying implementation."
   ]
  },
  {
   "cell_type": "code",
   "execution_count": 18,
   "metadata": {},
   "outputs": [
    {
     "name": "stdout",
     "output_type": "stream",
     "text": [
      "15\n",
      "16\n"
     ]
    }
   ],
   "source": [
    "# Example :\n",
    "\n",
    "import abc\n",
    "\n",
    "class Shape:\n",
    "\n",
    "    @abc.abstractmethod\n",
    "    def area(self):\n",
    "        pass\n",
    "\n",
    "    @abc.abstractmethod\n",
    "    def perimeter(self):\n",
    "        pass\n",
    "\n",
    "class Rectangle(Shape):\n",
    "    def __init__(self, length, width):\n",
    "        self.length = length\n",
    "        self.width = width\n",
    "\n",
    "    def area(self):\n",
    "        return self.length * self.width\n",
    "\n",
    "    def perimeter(self):\n",
    "        return 2 * (self.length + self.width)\n",
    "\n",
    "my_rectangle = Rectangle(5, 3)\n",
    "print(my_rectangle.area())       \n",
    "print(my_rectangle.perimeter())\n"
   ]
  },
  {
   "attachments": {},
   "cell_type": "markdown",
   "metadata": {},
   "source": [
    "Q2. Differentiate between Abstraction and Encapsulation. Explain with an example."
   ]
  },
  {
   "attachments": {},
   "cell_type": "markdown",
   "metadata": {},
   "source": [
    "* Encapsulation: Encapsulation is the process of bundling data (attributes) and methods (behaviors) together within a class, while restricting direct access to the internal details of the class from outside. It promotes information hiding and data protection. The attributes of a class are typically marked as private or protected, and external code interacts with the class through public methods. Encapsulation helps maintain the integrity of data and allows for better control over how the data is accessed and modified."
   ]
  },
  {
   "attachments": {},
   "cell_type": "markdown",
   "metadata": {},
   "source": [
    "* Abstraction: Abstraction focuses on representing the essential features and behavior of an object, while hiding unnecessary details. It simplifies complex systems by providing a conceptual model that captures the most relevant aspects. Abstraction allows you to create classes or interfaces that define the structure and functionality without specifying all the implementation details. It provides a higher-level view of the system, hiding the complexities and enabling users to work with the abstraction without needing to understand the underlying implementation.\n"
   ]
  },
  {
   "attachments": {},
   "cell_type": "markdown",
   "metadata": {},
   "source": [
    "* In summary, encapsulation is about bundling data and methods together and controlling their access, while abstraction is about providing a simplified view of an object or system by hiding unnecessary details. Encapsulation helps achieve abstraction by defining the interface for interacting with the encapsulated data and behaviors."
   ]
  },
  {
   "cell_type": "code",
   "execution_count": 15,
   "metadata": {},
   "outputs": [
    {
     "name": "stdout",
     "output_type": "stream",
     "text": [
      "Amount 2000 deposited\n",
      "Withdrawal of 1000 rupees successful.\n"
     ]
    },
    {
     "data": {
      "text/plain": [
       "'Total balance - 11000'"
      ]
     },
     "execution_count": 15,
     "metadata": {},
     "output_type": "execute_result"
    }
   ],
   "source": [
    "# Encapsulation example:\n",
    "\n",
    "class bank_account:\n",
    "    def __init__(self, balance, account_number) :\n",
    "        self.__balance = balance\n",
    "        self.__account_number = account_number\n",
    "\n",
    "    def deposit(self, amount):\n",
    "        self.__balance += amount\n",
    "        print(f\"Amount {amount} deposited\")\n",
    "\n",
    "    def withdraw(self, amount):\n",
    "        if amount <= self.__balance:\n",
    "            self.__balance -= amount\n",
    "            print(f\"Withdrawal of {amount} rupees successful.\")\n",
    "        else:\n",
    "            print(\"Insufficient balance\")\n",
    "    \n",
    "    def get_balance(self):\n",
    "        return f\"Total balance - {self.__balance}\"\n",
    "\n",
    "account = bank_account(10000, 45645)  \n",
    "\n",
    "account.deposit(2000)\n",
    "account.withdraw(1000)\n",
    "account.get_balance()\n",
    "        "
   ]
  },
  {
   "cell_type": "code",
   "execution_count": 19,
   "metadata": {},
   "outputs": [
    {
     "name": "stdout",
     "output_type": "stream",
     "text": [
      "This is the method for student_name\n",
      "This is the method for quiz_marks\n"
     ]
    }
   ],
   "source": [
    "# Abstraction example :\n",
    "\n",
    "import abc \n",
    "\n",
    "class course:\n",
    "\n",
    "    @abc.abstractmethod\n",
    "    def student_name(self):\n",
    "        pass\n",
    "\n",
    "    @abc.abstractmethod\n",
    "    def quiz_marks(self):\n",
    "        pass\n",
    "\n",
    "class data_science_masters(course):\n",
    "    def student_name(self):\n",
    "        return \"This is the method for student_name\"\n",
    "    \n",
    "    def quiz_marks(self):\n",
    "        return \"This is the method for quiz_marks\"\n",
    "    \n",
    "dsm = data_science_masters()\n",
    "\n",
    "print(dsm.student_name())\n",
    "print(dsm.quiz_marks())"
   ]
  },
  {
   "attachments": {},
   "cell_type": "markdown",
   "metadata": {},
   "source": [
    "Q3. What is abc module in python? Why is it used?"
   ]
  },
  {
   "attachments": {},
   "cell_type": "markdown",
   "metadata": {},
   "source": [
    "* The abc module in Python stands for \"Abstract Base Classes\". It provides the infrastructure for defining abstract base classes, which are classes that cannot be instantiated directly but serve as blueprints for other classes to inherit from."
   ]
  },
  {
   "attachments": {},
   "cell_type": "markdown",
   "metadata": {},
   "source": [
    "* The abc module in Python, which stands for \"Abstract Base Classes,\" is used for several reasons:\n",
    "\n",
    "1. Defining common interfaces: Abstract base classes allow you to define a common interface or contract that derived classes should adhere to. By defining abstract methods in the base class, you ensure that all subclasses provide concrete implementations for those methods. This promotes code consistency and helps in designing class hierarchies.\n",
    "\n",
    "2. Enforcing contracts: Abstract base classes help enforce contracts between classes. By declaring abstract methods in the base class, you specify which methods must be implemented by derived classes. This ensures that the derived classes fulfill the contract and provide the necessary functionality.\n",
    "\n",
    "3. Promoting code reuse: Abstract base classes provide a way to share common functionality among multiple classes. By defining abstract methods with default implementations or implementing common functionality in the base class, you can reuse code across different subclasses. This reduces code duplication and promotes modular design."
   ]
  },
  {
   "attachments": {},
   "cell_type": "markdown",
   "metadata": {},
   "source": [
    "Q4. How can we achieve data abstraction?"
   ]
  },
  {
   "attachments": {},
   "cell_type": "markdown",
   "metadata": {},
   "source": [
    "* In Python, we can achieve data abstraction by using classes, access modifiers, and encapsulation. \n",
    "\n",
    "1. Create a class: Define a class that represents the data and the operations associated with it. The class serves as a container for data and related behaviors.\n",
    "\n",
    "2. Use access modifiers: Python provides access modifiers to control the visibility and accessibility of class members (attributes and methods). The common access modifiers are:\n",
    "* Public : No access modifier needed. Public members are accessible from anywhere.\n",
    "* Protected : Use a single underscore (_) prefix. Protected members are accessible within the class and its subclasses.\n",
    "* Private : Use a double underscore (__) prefix. Private members are accessible only within the class itself.\n",
    "\n",
    "3. Encapsulate the data: Encapsulate the data by defining class attributes and methods. Keep the internal data hidden or protected by using appropriate access modifiers. This prevents direct access to the internal state of the object and enforces controlled access through defined methods.\n",
    "\n",
    "4. Provide public methods: Define public methods within the class that allow external code to interact with the data. These methods serve as the interface through which the external code can perform operations on the data. The public methods should provide a clear and consistent way to access and modify the data, while hiding the internal implementation details."
   ]
  },
  {
   "attachments": {},
   "cell_type": "markdown",
   "metadata": {},
   "source": [
    "Q5. Can we create an instance of an abstract class? Explain your answer."
   ]
  },
  {
   "attachments": {},
   "cell_type": "markdown",
   "metadata": {},
   "source": [
    "* No , we cannot create an instance of an abstract class in most programming languages, including Python. An abstract class is a class that contains one or more abstract methods, which are methods without any implementation. The purpose of an abstract class is to serve as a blueprint or template for its derived classes to inherit from and provide concrete implementations for the abstract methods.\n",
    "\n",
    "* Attempting to create an instance of an abstract class directly would result in an error or an exception, as the abstract class itself is incomplete and lacks the necessary implementation for the abstract methods. It is intended to be subclassed and extended by derived classes, which provide the missing implementations.\n",
    "\n",
    "* Abstract classes are meant to be used as a form of contract or interface, defining a common set of methods that derived classes must implement. They provide a way to establish a consistent structure and behavior among related classes while allowing each derived class to customize and extend the functionality according to its specific requirements.\n",
    "\n",
    "* To create an object or instance of a class, it needs to be a concrete class that provides implementations for all the methods, including any inherited abstract methods. The abstract class itself serves as a higher-level concept or a design blueprint rather than an entity that can be instantiated directly."
   ]
  }
 ],
 "metadata": {
  "kernelspec": {
   "display_name": "Python 3",
   "language": "python",
   "name": "python3"
  },
  "language_info": {
   "codemirror_mode": {
    "name": "ipython",
    "version": 3
   },
   "file_extension": ".py",
   "mimetype": "text/x-python",
   "name": "python",
   "nbconvert_exporter": "python",
   "pygments_lexer": "ipython3",
   "version": "3.11.3"
  },
  "orig_nbformat": 4
 },
 "nbformat": 4,
 "nbformat_minor": 2
}
