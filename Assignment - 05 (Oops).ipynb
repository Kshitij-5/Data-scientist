{
 "cells": [
  {
   "attachments": {},
   "cell_type": "markdown",
   "metadata": {},
   "source": [
    " ##                     **Assignment - 04 (Functions)**"
   ]
  },
  {
   "attachments": {},
   "cell_type": "markdown",
   "metadata": {},
   "source": [
    "Q1. Create a vehicle class with an init method having instance variables as name_of_vehicle, max_speed\n",
    "and average_of_vehicle."
   ]
  },
  {
   "cell_type": "code",
   "execution_count": 2,
   "metadata": {},
   "outputs": [
    {
     "name": "stdout",
     "output_type": "stream",
     "text": [
      "Car\n",
      "150\n",
      "60\n"
     ]
    }
   ],
   "source": [
    "# Creating a class as per the given information as follows:\n",
    "class Vehicle:\n",
    "    def __init__(self, name_of_vehicle, max_speed, average_of_vehicle) :\n",
    "        self.name_of_vehicle = name_of_vehicle\n",
    "        self.max_speed = max_speed\n",
    "        self.average_of_vehicle = average_of_vehicle\n",
    "\n",
    "car = Vehicle(\"Car\", 150, 60)\n",
    "print(car.name_of_vehicle)     \n",
    "print(car.max_speed)           \n",
    "print(car.average_of_vehicle)"
   ]
  },
  {
   "attachments": {},
   "cell_type": "markdown",
   "metadata": {},
   "source": [
    "Q2. Create a child class car from the vehicle class created in Que 1, which will inherit the vehicle class.\n",
    "Create a method named seating_capacity which takes capacity as an argument and returns the name of\n",
    "the vehicle and its seating capacity."
   ]
  },
  {
   "cell_type": "code",
   "execution_count": 5,
   "metadata": {},
   "outputs": [
    {
     "name": "stdout",
     "output_type": "stream",
     "text": [
      "('Innova', 7)\n"
     ]
    }
   ],
   "source": [
    "class Vehicle:\n",
    "    def __init__(self, name_of_vehicle, max_speed, average_of_vehicle) :\n",
    "        self.name_of_vehicle = name_of_vehicle\n",
    "        self.max_speed = max_speed\n",
    "        self.average_of_vehicle = average_of_vehicle\n",
    "\n",
    "# Creating a child class car which will inherit the Vehicle class\n",
    "class car(Vehicle):\n",
    "    def seating_capacity(self,capacity):\n",
    "         return self.name_of_vehicle, capacity\n",
    "    \n",
    "Car = car(\"Innova\", 280, 65)\n",
    "print(Car.seating_capacity(7))   "
   ]
  },
  {
   "attachments": {},
   "cell_type": "markdown",
   "metadata": {},
   "source": [
    "Q3. What is multiple inheritance? Write a python code to demonstrate multiple inheritance."
   ]
  },
  {
   "attachments": {},
   "cell_type": "markdown",
   "metadata": {},
   "source": [
    "* Multiple inheritance is a feature that allows a class to inherit properties and methods from more than one parent class. In multiple inheritance, a derived class can inherit characteristics from multiple base classes, forming a hierarchical relationship."
   ]
  },
  {
   "cell_type": "code",
   "execution_count": 6,
   "metadata": {},
   "outputs": [
    {
     "name": "stdout",
     "output_type": "stream",
     "text": [
      "This is the method for class1\n",
      "This is the method for class2\n",
      "This is the method for class3\n"
     ]
    }
   ],
   "source": [
    "# Demonstrating multiple inheritance through the following code:\n",
    "\n",
    "class class1:\n",
    "    def test_class1(self):\n",
    "        print(\"This is the method for class1\")\n",
    "\n",
    "class class2:\n",
    "    def test_class2(self):\n",
    "        print(\"This is the method for class2\")\n",
    "\n",
    "class class3:\n",
    "    def test_class3(self):\n",
    "        print(\"This is the method for class3\")\n",
    "\n",
    "class class4(class1, class2, class3):\n",
    "    pass\n",
    "\n",
    "class_obj = class4()\n",
    "\n",
    "class_obj.test_class1()\n",
    "class_obj.test_class2()\n",
    "class_obj.test_class3()"
   ]
  },
  {
   "attachments": {},
   "cell_type": "markdown",
   "metadata": {},
   "source": [
    "Q4. What are getter and setter in python? Create a class and create a getter and a setter method in this\n",
    "class."
   ]
  },
  {
   "attachments": {},
   "cell_type": "markdown",
   "metadata": {},
   "source": [
    "* In Python, getters and setters are methods used to access and modify the values of class attributes, also known as properties. They provide a way to encapsulate the access and modification of attribute values, allowing for controlled access and maintaining data integrity. Getter methods retrieve the value of an attribute, while setter methods set or modify the value of an attribute."
   ]
  },
  {
   "cell_type": "code",
   "execution_count": 1,
   "metadata": {},
   "outputs": [
    {
     "name": "stdout",
     "output_type": "stream",
     "text": [
      "Setter method called successfully\n",
      "Getter method called successfully.\n",
      "5000\n"
     ]
    }
   ],
   "source": [
    "# Creating a class:\n",
    "class bank_account:\n",
    "    def __init__(self, name, balance):\n",
    "        self.name = name\n",
    "        self.__balance = balance \n",
    "\n",
    "# Creating a Getter function:\n",
    "    \n",
    "    @property\n",
    "    def balance_access(self):\n",
    "        print(\"Getter method called successfully.\")\n",
    "        return self.__balance\n",
    "    \n",
    "# Creating a setter function:\n",
    " \n",
    "    @balance_access.setter\n",
    "    def balance_set(self, amount):\n",
    "        if amount > 10000:\n",
    "            pass\n",
    "        else:\n",
    "            print(\"Setter method called successfully\")\n",
    "            self.__balance = amount\n",
    "\n",
    "account_obj = bank_account(\"Joel\", 10000)\n",
    "\n",
    "account_obj.balance_set = 5000\n",
    "\n",
    "print(account_obj.balance_access)\n"
   ]
  },
  {
   "attachments": {},
   "cell_type": "markdown",
   "metadata": {},
   "source": [
    "Q5.What is method overriding in python? Write a python code to demonstrate method overriding."
   ]
  },
  {
   "attachments": {},
   "cell_type": "markdown",
   "metadata": {},
   "source": [
    "* Method overriding occurs when a subclass defines a method that is already defined in its superclass, with the same name and the same number and type of parameters."
   ]
  },
  {
   "cell_type": "code",
   "execution_count": 2,
   "metadata": {},
   "outputs": [
    {
     "name": "stdout",
     "output_type": "stream",
     "text": [
      "Child: Hi there!\n"
     ]
    }
   ],
   "source": [
    "class Parent:\n",
    "    def greet(self):\n",
    "        print(\"Parent: Hello!\")\n",
    "\n",
    "\n",
    "class Child(Parent):\n",
    "    def greet(self):\n",
    "        print(\"Child: Hi there!\")\n",
    "\n",
    "\n",
    "child = Child()\n",
    "child.greet() "
   ]
  }
 ],
 "metadata": {
  "kernelspec": {
   "display_name": "Python 3",
   "language": "python",
   "name": "python3"
  },
  "language_info": {
   "codemirror_mode": {
    "name": "ipython",
    "version": 3
   },
   "file_extension": ".py",
   "mimetype": "text/x-python",
   "name": "python",
   "nbconvert_exporter": "python",
   "pygments_lexer": "ipython3",
   "version": "3.11.3"
  },
  "orig_nbformat": 4
 },
 "nbformat": 4,
 "nbformat_minor": 2
}
