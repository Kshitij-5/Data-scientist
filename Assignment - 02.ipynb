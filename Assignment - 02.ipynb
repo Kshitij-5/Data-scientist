{
 "cells": [
  {
   "attachments": {},
   "cell_type": "markdown",
   "metadata": {},
   "source": [
    "   ##                     ***Assignment - 02***"
   ]
  },
  {
   "attachments": {},
   "cell_type": "markdown",
   "metadata": {},
   "source": [
    "Q1. How do you comment code in Python? What are the different types of comments?"
   ]
  },
  {
   "attachments": {},
   "cell_type": "markdown",
   "metadata": {},
   "source": [
    "* In python, we can comment code by using the “#” symbol at the beginning of each line of the comment.\n",
    " The different types of comments are:\n",
    "1. Single-line comments.\n",
    "2. Multi-line comments.\n",
    "\n"
   ]
  },
  {
   "attachments": {},
   "cell_type": "markdown",
   "metadata": {},
   "source": [
    "Q2. What are variables in Python? How do you declare and assign values to variables?"
   ]
  },
  {
   "attachments": {},
   "cell_type": "markdown",
   "metadata": {},
   "source": [
    "* Variables are the reserved memory locations to store values. In Python, the Python interpreter allocates RAM to the variable based on its data type. Thus, one can store integers, decimals, or characters in Python variables, and data types are generally assigned to them later.\n",
    "\n",
    "* In Python, we need not declare a variable with some specific data type. Python has no command for declaring a variable. A variable is created when some value is assigned to it. The value assigned to a variable determines the data type of that variable.\n",
    "\n",
    "* Thus, declaring a variable in Python is very simple.\n",
    "\n",
    "1. Just name the variable.\n",
    "2. Assign the required value to it.\n",
    "3. The data type of the variable will be automatically determined from the value assigned, we need not define it explicitly.\n",
    "\n",
    "* For example :"
   ]
  },
  {
   "cell_type": "code",
   "execution_count": 4,
   "metadata": {},
   "outputs": [
    {
     "name": "stdout",
     "output_type": "stream",
     "text": [
      "5\n",
      "<class 'int'>\n"
     ]
    }
   ],
   "source": [
    "# To declare an integer variable :\n",
    "# Name the variable (a)\n",
    "# Assign an integer value to it (5)\n",
    "a = 5\n",
    "print (a)\n",
    "print (type(a))"
   ]
  },
  {
   "attachments": {},
   "cell_type": "markdown",
   "metadata": {},
   "source": [
    "Q3. How do you convert one data type to another in Python?"
   ]
  },
  {
   "attachments": {},
   "cell_type": "markdown",
   "metadata": {},
   "source": [
    "* In Python, we can convert one data type to another by Type Casting. Type Casting is the method to convert the Python variable datatype into a certain data type in order to the operation required to be performed by users. \n",
    "\n",
    "* Mainly Type Casting can be done with these data type functions:\n",
    "\n",
    "1. Int():  Python Int() function take float or string as an argument and returns int type object.\n",
    "2. float():  Python float() function take int or string as an argument and return float type object.\n",
    "3. str():  Python str() function takes float or int as an argument and returns string type object."
   ]
  },
  {
   "attachments": {},
   "cell_type": "markdown",
   "metadata": {},
   "source": [
    "Q4. How do you write and execute a Python script from the command line?"
   ]
  },
  {
   "attachments": {},
   "cell_type": "markdown",
   "metadata": {},
   "source": [
    "* To run Python scripts with the python command, we need to open a command-line and type in the word python followed by the path to our script, just like this:\n",
    "\n",
    "python main.py    \n",
    "Hello World!\n",
    "* If everything works okay, after we press Enter, we’ll see the phrase Hello World! on our screen. \n",
    "* In this way we can write and execute a Python script from the command line."
   ]
  },
  {
   "attachments": {},
   "cell_type": "markdown",
   "metadata": {},
   "source": [
    "Q5. Given a list my_list = [1, 2, 3, 4, 5], write the code to slice the list and obtain the sub-list [2, 3]."
   ]
  },
  {
   "cell_type": "code",
   "execution_count": 3,
   "metadata": {},
   "outputs": [
    {
     "name": "stdout",
     "output_type": "stream",
     "text": [
      "The sub-list is [2, 3]\n"
     ]
    }
   ],
   "source": [
    "# The given list is :\n",
    "my_list = [1, 2, 3, 4, 5]    \n",
    "\n",
    "# Slicing the list to obtain the required sub-list :\n",
    "my_list [1:3]\n",
    "\n",
    "# Displaying the sub-list :\n",
    "print (\"The sub-list is\", my_list [1:3])"
   ]
  },
  {
   "attachments": {},
   "cell_type": "markdown",
   "metadata": {},
   "source": [
    "Q6. What is a complex number in mathematics, and how is it represented in Python?"
   ]
  },
  {
   "attachments": {},
   "cell_type": "markdown",
   "metadata": {},
   "source": [
    "* In Mathematics, a complex number is a number of the form a + bi, where a and b are real numbers, and i = √-1.  For a complex number z = a + ib,'a' is called the real part which is denoted by Re(z), and 'b' is called the imaginary part Im(z).  Also, ib is called an imaginary number."
   ]
  },
  {
   "cell_type": "code",
   "execution_count": 6,
   "metadata": {},
   "outputs": [
    {
     "name": "stdout",
     "output_type": "stream",
     "text": [
      "(7+9j)\n",
      "<class 'complex'>\n"
     ]
    }
   ],
   "source": [
    "# Representation of a complex number in Python :\n",
    "# In python, the imaginary part in a complex number is represented by 'j'.\n",
    "a = 7 + 9j\n",
    "print (a)\n",
    "print (type (a))"
   ]
  },
  {
   "attachments": {},
   "cell_type": "markdown",
   "metadata": {},
   "source": [
    "Q7. What is the correct way to declare a variable named age and assign the value 25 to it?"
   ]
  },
  {
   "cell_type": "code",
   "execution_count": 1,
   "metadata": {},
   "outputs": [
    {
     "name": "stdout",
     "output_type": "stream",
     "text": [
      "25\n"
     ]
    }
   ],
   "source": [
    "# The correct way of declaring a required variable and assigning a value to it is :\n",
    "age = 25\n",
    "print (age)"
   ]
  },
  {
   "attachments": {},
   "cell_type": "markdown",
   "metadata": {},
   "source": [
    "Q8. Declare a variable named price and assign the value 9.99 to it. What data type does this variable\n",
    "belong to?"
   ]
  },
  {
   "cell_type": "code",
   "execution_count": 4,
   "metadata": {},
   "outputs": [
    {
     "name": "stdout",
     "output_type": "stream",
     "text": [
      "9.99\n",
      "<class 'float'>\n"
     ]
    }
   ],
   "source": [
    "# Declaring a variable named price by assigning it the value of 9.99 to it :\n",
    "price = 9.99\n",
    "print (price)\n",
    "\n",
    "# Displaying the data type this variable belongs to:\n",
    "print (type(price))\n"
   ]
  },
  {
   "attachments": {},
   "cell_type": "markdown",
   "metadata": {},
   "source": [
    "Q9. Create a variable named name and assign your full name to it as a string. How would you print the \n",
    "value of this variable?"
   ]
  },
  {
   "cell_type": "code",
   "execution_count": 13,
   "metadata": {},
   "outputs": [
    {
     "name": "stdout",
     "output_type": "stream",
     "text": [
      "Kshitij Vyas\n"
     ]
    }
   ],
   "source": [
    "# Declaring the variable :\n",
    "name = \"Kshitij Vyas\"\n",
    "\n",
    "# Printing the value of variable name :\n",
    "print (name)"
   ]
  },
  {
   "attachments": {},
   "cell_type": "markdown",
   "metadata": {},
   "source": [
    "Q10. Given the string \"Hello, World!\", extract the substring \"World\"."
   ]
  },
  {
   "cell_type": "code",
   "execution_count": 14,
   "metadata": {},
   "outputs": [
    {
     "data": {
      "text/plain": [
       "'World'"
      ]
     },
     "execution_count": 14,
     "metadata": {},
     "output_type": "execute_result"
    }
   ],
   "source": [
    "# Creating a variable (var) and assigning it the given string :\n",
    "var = \"Hello, World!\"\n",
    "\n",
    "# Extracting the substring 'World' :\n",
    "var [7:12]"
   ]
  },
  {
   "attachments": {},
   "cell_type": "markdown",
   "metadata": {},
   "source": [
    "Q11. Create a variable named \"is_student\" and assign it a boolean value indicating whether you are \n",
    "currently a student or not.\n"
   ]
  },
  {
   "cell_type": "code",
   "execution_count": 12,
   "metadata": {},
   "outputs": [
    {
     "name": "stdout",
     "output_type": "stream",
     "text": [
      "True\n"
     ]
    }
   ],
   "source": [
    "# Creating a variable and assigning it a boolean value indicating whether i am currently a student or not.\n",
    "is_student = True\n",
    "print (is_student)"
   ]
  }
 ],
 "metadata": {
  "kernelspec": {
   "display_name": "Python 3",
   "language": "python",
   "name": "python3"
  },
  "language_info": {
   "codemirror_mode": {
    "name": "ipython",
    "version": 3
   },
   "file_extension": ".py",
   "mimetype": "text/x-python",
   "name": "python",
   "nbconvert_exporter": "python",
   "pygments_lexer": "ipython3",
   "version": "3.11.3"
  },
  "orig_nbformat": 4
 },
 "nbformat": 4,
 "nbformat_minor": 2
}
