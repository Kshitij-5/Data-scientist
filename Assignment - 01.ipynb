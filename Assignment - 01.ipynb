{
 "cells": [
  {
   "cell_type": "markdown",
   "id": "3cfe7c83-410a-43a3-a2e0-3f6c3974f28e",
   "metadata": {},
   "source": [
    "Q1. Create one variable containing following type of data:\n",
    "(i) string\n",
    "(ii) list\n",
    "(iii) float\n",
    "(iv) tuple"
   ]
  },
  {
   "cell_type": "code",
   "execution_count": 1,
   "id": "de448bf4-656b-485b-abfa-edf59eb0f239",
   "metadata": {},
   "outputs": [],
   "source": [
    "# (i) string:\n",
    "a = \"kshitij\""
   ]
  },
  {
   "cell_type": "code",
   "execution_count": 2,
   "id": "54fe41ee-09b8-4924-b0f8-103ca706989f",
   "metadata": {},
   "outputs": [],
   "source": [
    "# (ii) list:\n",
    "b = [1,3,9,10,\"hero\",True]"
   ]
  },
  {
   "cell_type": "code",
   "execution_count": 3,
   "id": "89fc1873-00c9-457c-9317-2cd8fb3cd6c4",
   "metadata": {},
   "outputs": [],
   "source": [
    "# (iii) float:\n",
    "c = 95.44778"
   ]
  },
  {
   "cell_type": "code",
   "execution_count": 4,
   "id": "883e5aca-6f5b-46b7-a47e-6cb8139bf5e7",
   "metadata": {},
   "outputs": [],
   "source": [
    "# (iv) tuple:\n",
    "d = (8,56,22,25,\"apple\")"
   ]
  },
  {
   "cell_type": "markdown",
   "id": "440f5e7c-bace-41bb-a743-eca563ad3c93",
   "metadata": {},
   "source": [
    "Q2. Given are some following variables containing data:\n",
    "(i) var1 = ‘ ‘\n",
    "(ii) var2 = ‘[ DS , ML , Python]’\n",
    "(iii) var3 = [ ‘DS’ , ’ML’ , ‘Python’ ]\n",
    "(iv) var4 = 1."
   ]
  },
  {
   "cell_type": "markdown",
   "id": "5121f995-53f2-47c7-9a51-328196b87d16",
   "metadata": {},
   "source": [
    "What will be the data type of the above given variable."
   ]
  },
  {
   "cell_type": "code",
   "execution_count": 5,
   "id": "b47bbb4a-2ef6-428f-901e-659c127e62da",
   "metadata": {},
   "outputs": [],
   "source": [
    "# (i)\n",
    "var1 = ''"
   ]
  },
  {
   "cell_type": "code",
   "execution_count": 6,
   "id": "dc3505cc-556b-40d0-bbc4-298c8156325f",
   "metadata": {},
   "outputs": [
    {
     "data": {
      "text/plain": [
       "str"
      ]
     },
     "execution_count": 6,
     "metadata": {},
     "output_type": "execute_result"
    }
   ],
   "source": [
    "type (var1)"
   ]
  },
  {
   "cell_type": "code",
   "execution_count": 7,
   "id": "14c74041-d115-459a-9177-978446ccbfe8",
   "metadata": {},
   "outputs": [],
   "source": [
    "# (ii)\n",
    "var2 = '[DS, ML, Python]'"
   ]
  },
  {
   "cell_type": "code",
   "execution_count": 8,
   "id": "76e22af3-65a0-41e6-af6e-a76cacfc4024",
   "metadata": {},
   "outputs": [
    {
     "data": {
      "text/plain": [
       "str"
      ]
     },
     "execution_count": 8,
     "metadata": {},
     "output_type": "execute_result"
    }
   ],
   "source": [
    "type (var2)"
   ]
  },
  {
   "cell_type": "code",
   "execution_count": 10,
   "id": "105d3734-5058-4cb7-a479-053669632aad",
   "metadata": {},
   "outputs": [],
   "source": [
    "# (iii)\n",
    "var3 = ['DS', 'ML','Python']"
   ]
  },
  {
   "cell_type": "code",
   "execution_count": 11,
   "id": "2c3720bc-826e-4608-b3f2-99b26af4c405",
   "metadata": {},
   "outputs": [
    {
     "data": {
      "text/plain": [
       "list"
      ]
     },
     "execution_count": 11,
     "metadata": {},
     "output_type": "execute_result"
    }
   ],
   "source": [
    "type (var3)"
   ]
  },
  {
   "cell_type": "code",
   "execution_count": 12,
   "id": "7523c837-bd20-49b5-b63d-a19560821322",
   "metadata": {},
   "outputs": [],
   "source": [
    "# (iv)\n",
    "var4 = 1"
   ]
  },
  {
   "cell_type": "code",
   "execution_count": 13,
   "id": "f0d9d047-e0f3-49c7-99fc-4b8b2f1561b2",
   "metadata": {},
   "outputs": [
    {
     "data": {
      "text/plain": [
       "int"
      ]
     },
     "execution_count": 13,
     "metadata": {},
     "output_type": "execute_result"
    }
   ],
   "source": [
    "type (var4)"
   ]
  },
  {
   "cell_type": "markdown",
   "id": "daf7dfdf-ec8e-4f4b-92a0-5814ca59dce4",
   "metadata": {},
   "source": [
    "Q3. Explain the use of the following operators using an example:\n",
    "(i) /\n",
    "(ii) %\n",
    "(iii) //\n",
    "(iv) **"
   ]
  },
  {
   "cell_type": "code",
   "execution_count": 21,
   "id": "9cdcccda-1e78-4691-b848-7e177c122a70",
   "metadata": {},
   "outputs": [
    {
     "data": {
      "text/plain": [
       "1.75"
      ]
     },
     "execution_count": 21,
     "metadata": {},
     "output_type": "execute_result"
    }
   ],
   "source": [
    "#(i) /: Division (float) operator : This operator divides the first operand by the second. It is used when you want a more precise division result, as it does not round off the value to whole numbers.\n",
    "# example:\n",
    "7 / 4"
   ]
  },
  {
   "cell_type": "code",
   "execution_count": 22,
   "id": "b93801af-dbc3-4a7c-9353-b4bddd1c14c3",
   "metadata": {},
   "outputs": [
    {
     "data": {
      "text/plain": [
       "1"
      ]
     },
     "execution_count": 22,
     "metadata": {},
     "output_type": "execute_result"
    }
   ],
   "source": [
    "#(ii) %: Modulus operator : This operator returns the remainder when the first operand is divided by the second.\n",
    "# example:\n",
    "5 % 2"
   ]
  },
  {
   "cell_type": "code",
   "execution_count": 23,
   "id": "7cef33a1-f31e-4e91-99de-37562193e6fd",
   "metadata": {},
   "outputs": [
    {
     "data": {
      "text/plain": [
       "1"
      ]
     },
     "execution_count": 23,
     "metadata": {},
     "output_type": "execute_result"
    }
   ],
   "source": [
    "#(iii) //: Division (floor) operator : This operator divides the first operand by the second. It allows us to divide two numbers and rounds the resultant value down to the nearest integer.\n",
    "# example:\n",
    "7 // 4"
   ]
  },
  {
   "cell_type": "code",
   "execution_count": 24,
   "id": "517c9f39-301e-47b3-9077-cbcdecf4ee5f",
   "metadata": {},
   "outputs": [
    {
     "data": {
      "text/plain": [
       "64"
      ]
     },
     "execution_count": 24,
     "metadata": {},
     "output_type": "execute_result"
    }
   ],
   "source": [
    "#(iv) ** : Power operator : Returns first raised to power second.\n",
    "# example:\n",
    "2**6"
   ]
  },
  {
   "cell_type": "markdown",
   "id": "dc1707b0-4f4a-42fe-9477-4c12daaa30f8",
   "metadata": {},
   "source": [
    "Q4. Create a list of length 10 of your choice containing multiple types of data. Using for loop print the\n",
    "element and its data type."
   ]
  },
  {
   "cell_type": "code",
   "execution_count": 10,
   "id": "7e7d0cd3-86a2-453f-9857-8b1a6a12e2d3",
   "metadata": {},
   "outputs": [
    {
     "name": "stdout",
     "output_type": "stream",
     "text": [
      "The elements in l : [2, 3, 6, 7, 8, True, (6+5j), 'game', 10.967, 'hello']\n",
      " The element is 2 \n",
      " Its data type is <class 'int'>\n",
      " The element is 3 \n",
      " Its data type is <class 'int'>\n",
      " The element is 6 \n",
      " Its data type is <class 'int'>\n",
      " The element is 7 \n",
      " Its data type is <class 'int'>\n",
      " The element is 8 \n",
      " Its data type is <class 'int'>\n",
      " The element is True \n",
      " Its data type is <class 'bool'>\n",
      " The element is (6+5j) \n",
      " Its data type is <class 'complex'>\n",
      " The element is game \n",
      " Its data type is <class 'str'>\n",
      " The element is 10.967 \n",
      " Its data type is <class 'float'>\n",
      " The element is hello \n",
      " Its data type is <class 'str'>\n"
     ]
    }
   ],
   "source": [
    "# Let l be the list of length 10.\n",
    "l = [2,3,6,7,8,True,(6+5j),\"game\",10.967,\"hello\"]\n",
    "print (\"The elements in l :\", l)\n",
    "for i in l :\n",
    "    print (f\" The element is {(i)} \")\n",
    "    print (f\" Its data type is {type (i)}\")"
   ]
  },
  {
   "cell_type": "markdown",
   "id": "1e09011e-00f0-4d80-87d7-5b87be3d6ba0",
   "metadata": {},
   "source": [
    "Q5. Using a while loop, verify if the number A is purely divisible by number B and if so then how many\n",
    "times it can be divisible."
   ]
  },
  {
   "cell_type": "code",
   "execution_count": 1,
   "id": "267bebe0-9491-4a03-b893-ce15b4431be5",
   "metadata": {},
   "outputs": [
    {
     "name": "stdout",
     "output_type": "stream",
     "text": [
      "A is divisible by B  2  times.\n"
     ]
    }
   ],
   "source": [
    "# let the value of 'A' be 180 and the value of 'B' be 2.\n",
    "# Then\n",
    "A = 180\n",
    "B = 2\n",
    "count = 0\n",
    "while A % B == 0:\n",
    "    A = A/B\n",
    "    count += 1\n",
    "if count > 0:\n",
    "    print (\"A is divisible by B \", count, \" times.\")\n",
    "else:\n",
    "    print(\"A is not divisible by B.\")"
   ]
  },
  {
   "cell_type": "markdown",
   "id": "450cfdbc-aabc-49e5-b226-f7f177074af5",
   "metadata": {},
   "source": [
    "Q6. Create a list containing 25 int type data. Using for loop and if-else condition print if the element is\n",
    "divisible by 3 or not."
   ]
  },
  {
   "cell_type": "code",
   "execution_count": 16,
   "id": "ffe3f6a0-ca85-4631-b112-ee2b684d81a4",
   "metadata": {},
   "outputs": [
    {
     "name": "stdout",
     "output_type": "stream",
     "text": [
      "The elements in k: [14, 15, 16, 17, 18, 19, 20, 21, 22, 23, 24, 25, 26, 27, 28, 29, 30, 31, 32, 33, 34, 35, 36, 37, 38]\n",
      "14 is not divisible by 3\n",
      "15 is divisible by 3\n",
      "16 is not divisible by 3\n",
      "17 is not divisible by 3\n",
      "18 is divisible by 3\n",
      "19 is not divisible by 3\n",
      "20 is not divisible by 3\n",
      "21 is divisible by 3\n",
      "22 is not divisible by 3\n",
      "23 is not divisible by 3\n",
      "24 is divisible by 3\n",
      "25 is not divisible by 3\n",
      "26 is not divisible by 3\n",
      "27 is divisible by 3\n",
      "28 is not divisible by 3\n",
      "29 is not divisible by 3\n",
      "30 is divisible by 3\n",
      "31 is not divisible by 3\n",
      "32 is not divisible by 3\n",
      "33 is divisible by 3\n",
      "34 is not divisible by 3\n",
      "35 is not divisible by 3\n",
      "36 is divisible by 3\n",
      "37 is not divisible by 3\n",
      "38 is not divisible by 3\n"
     ]
    }
   ],
   "source": [
    "# Let k be the list containing 25 int type data.\n",
    "k = list(range(14,39))\n",
    "print (\"The elements in k:\", k)\n",
    "for i in k:\n",
    "    if i % 3 == 0:\n",
    "        print(f\"{i} is divisible by 3\")\n",
    "    else:\n",
    "        print(f\"{i} is not divisible by 3\")"
   ]
  },
  {
   "cell_type": "markdown",
   "id": "7e9ff421-2fee-48b4-9032-854e5d6affbe",
   "metadata": {},
   "source": [
    "Q7. What do you understand about mutable and immutable data types? Give examples for both showing\n",
    "this property."
   ]
  },
  {
   "cell_type": "code",
   "execution_count": 27,
   "id": "5b902d5d-c492-4e36-a161-e5bd615719a6",
   "metadata": {
    "tags": []
   },
   "outputs": [
    {
     "name": "stdout",
     "output_type": "stream",
     "text": [
      "List after changing value using indexing =  [1, 2, 3, 4, 100]\n"
     ]
    }
   ],
   "source": [
    "# (i) Mutable data types: \n",
    "# Mutable data types in Python are those whose value can be changed in place after they have been created.\n",
    "# There are basically 3 mutable data types in Python: List, Dictionary, Set.\n",
    "# Example to demonstrate mutability in python by using list:\n",
    "# let our current list be\n",
    "my_list = [1,2,3,4,5]\n",
    "\n",
    "# Changing the value of the list by using the assignment operator\n",
    "my_list[4] = 100\n",
    "\n",
    "print(\"List after changing value using indexing = \", my_list)"
   ]
  },
  {
   "cell_type": "markdown",
   "id": "70c1a695-0d87-49a0-8523-b4090a2ee965",
   "metadata": {
    "tags": []
   },
   "source": [
    "Here the change is occurred in the list because mutable objects allow us to assign the data on a particular data type.\n",
    "This shows that Lists are mutable in nature."
   ]
  },
  {
   "cell_type": "code",
   "execution_count": 29,
   "id": "e6be22fc-467b-4018-9545-e7a7d6deadd2",
   "metadata": {},
   "outputs": [
    {
     "ename": "TypeError",
     "evalue": "'str' object does not support item assignment",
     "output_type": "error",
     "traceback": [
      "\u001b[0;31m---------------------------------------------------------------------------\u001b[0m",
      "\u001b[0;31mTypeError\u001b[0m                                 Traceback (most recent call last)",
      "Cell \u001b[0;32mIn[29], line 7\u001b[0m\n\u001b[1;32m      1\u001b[0m \u001b[38;5;66;03m# (ii) Immutable data types:\u001b[39;00m\n\u001b[1;32m      2\u001b[0m \u001b[38;5;66;03m# Immutable data types in Python are those whose value cannot be changed in place after they have been created.\u001b[39;00m\n\u001b[1;32m      3\u001b[0m \u001b[38;5;66;03m# There are basically 3 mutable data types in Python: Integer, String, Float\u001b[39;00m\n\u001b[1;32m      4\u001b[0m \u001b[38;5;66;03m# Example to demonstrate immutability in python by using string variable:\u001b[39;00m\n\u001b[1;32m      5\u001b[0m string_variable \u001b[38;5;241m=\u001b[39m \u001b[38;5;124m'\u001b[39m\u001b[38;5;124mhello geeks\u001b[39m\u001b[38;5;124m'\u001b[39m\n\u001b[0;32m----> 7\u001b[0m \u001b[43mstring_variable\u001b[49m\u001b[43m[\u001b[49m\u001b[38;5;241;43m0\u001b[39;49m\u001b[43m]\u001b[49m \u001b[38;5;241m=\u001b[39m \u001b[38;5;124m'\u001b[39m\u001b[38;5;124mbye\u001b[39m\u001b[38;5;124m'\u001b[39m\n\u001b[1;32m      9\u001b[0m \u001b[38;5;28mprint\u001b[39m(string_variable)\n",
      "\u001b[0;31mTypeError\u001b[0m: 'str' object does not support item assignment"
     ]
    }
   ],
   "source": [
    "# (ii) Immutable data types:\n",
    "# Immutable data types in Python are those whose value cannot be changed in place after they have been created.\n",
    "# There are basically 3 mutable data types in Python: Integer, String, Float\n",
    "# Example to demonstrate immutability in python by using string variable:\n",
    "string_variable = 'hello geeks'\n",
    "\n",
    "string_variable[0] = 'bye'\n",
    "\n",
    "print(string_variable)"
   ]
  },
  {
   "cell_type": "markdown",
   "id": "a7828de1-8208-48dd-9689-58b3b28ef5b9",
   "metadata": {},
   "source": [
    "Here this error shows that we cannot assign any new string value to the existing string. This implies that strings are immutable in nature."
   ]
  },
  {
   "cell_type": "code",
   "execution_count": null,
   "id": "e0319061-d435-4316-8c7a-906673e82ce8",
   "metadata": {},
   "outputs": [],
   "source": []
  }
 ],
 "metadata": {
  "kernelspec": {
   "display_name": "Python 3 (ipykernel)",
   "language": "python",
   "name": "python3"
  },
  "language_info": {
   "codemirror_mode": {
    "name": "ipython",
    "version": 3
   },
   "file_extension": ".py",
   "mimetype": "text/x-python",
   "name": "python",
   "nbconvert_exporter": "python",
   "pygments_lexer": "ipython3",
   "version": "3.10.8"
  }
 },
 "nbformat": 4,
 "nbformat_minor": 5
}
